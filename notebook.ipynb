{
 "cells": [
  {
   "cell_type": "code",
   "execution_count": 17,
   "metadata": {},
   "outputs": [],
   "source": [
    "from bs4 import BeautifulSoup\n",
    "import os.path\n",
    "import pickle\n",
    "from datetime import datetime\n",
    "import calendar\n",
    "import csv\n",
    "\n",
    "from datetime import datetime"
   ]
  },
  {
   "cell_type": "code",
   "execution_count": 54,
   "metadata": {},
   "outputs": [],
   "source": [
    "with open('365 Inspirational and Fascinating Quotes for 2022 - Inc. Australia.html') as f:\n",
    "    soup = BeautifulSoup(f)\n",
    "\n",
    "# h2_tags = soup.find_all(attrs={\"class\":\"inc_article_body\"})\n",
    "h2_tags = soup.find_all('h2')\n",
    "# len(h2_tags)\n",
    "\n",
    "# Initialize lists to store dates and quotes\n",
    "dates = []\n",
    "quotes = []\n",
    "\n",
    "# Iterate through each <h2> tag\n",
    "for h2 in h2_tags:\n",
    "    # Get the date from the <h2> tag\n",
    "    date = h2.text.strip()\n",
    "    # date = date.split(' (', 1)[0]\n",
    "    date_format = \"%A, %B %d, %Y\"\n",
    "\n",
    "    parsed_date = datetime.strptime(date, date_format)\n",
    "    dates.append(parsed_date)\n",
    "\n",
    "    # parse date into format\n",
    "    \n",
    "    # Find the next <p> tag (which contains the quote)\n",
    "    next_p = h2.find_next_sibling('p')\n",
    "    \n",
    "    # Get the quote from the <p> tag\n",
    "    if next_p:\n",
    "        quote = next_p.text.strip()\n",
    "        quotes.append(quote)\n",
    "\n",
    "\n",
    "with open('quotes_2022.csv', mode='w', newline='\\n', encoding='utf-8') as f:\n",
    "    writer = csv.writer(f)\n",
    "    writer.writerow(['Date', 'Quote'])  # write header\n",
    "    writer.writerows(zip(dates, quotes))\n"
   ]
  },
  {
   "cell_type": "code",
   "execution_count": 49,
   "metadata": {},
   "outputs": [
    {
     "data": {
      "text/plain": [
       "[datetime.datetime(2023, 1, 1, 0, 0),\n",
       " datetime.datetime(2023, 1, 2, 0, 0),\n",
       " datetime.datetime(2023, 1, 3, 0, 0)]"
      ]
     },
     "execution_count": 49,
     "metadata": {},
     "output_type": "execute_result"
    }
   ],
   "source": [
    "dates[:3]"
   ]
  },
  {
   "cell_type": "code",
   "execution_count": 39,
   "metadata": {},
   "outputs": [
    {
     "data": {
      "text/plain": [
       "datetime.datetime(2020, 1, 1, 0, 0)"
      ]
     },
     "execution_count": 39,
     "metadata": {},
     "output_type": "execute_result"
    }
   ],
   "source": [
    "date_str = dates[0]\n",
    "date_str = date_str.split(' (', 1)[0]\n",
    "date_format_2020 = \"%A, %B %d, %Y\"\n",
    "\n",
    "parsed_date = datetime.strptime(date_str, date_format)\n",
    "parsed_date"
   ]
  },
  {
   "cell_type": "code",
   "execution_count": null,
   "metadata": {},
   "outputs": [],
   "source": []
  },
  {
   "cell_type": "code",
   "execution_count": null,
   "metadata": {},
   "outputs": [],
   "source": []
  }
 ],
 "metadata": {
  "kernelspec": {
   "display_name": "base",
   "language": "python",
   "name": "python3"
  },
  "language_info": {
   "codemirror_mode": {
    "name": "ipython",
    "version": 3
   },
   "file_extension": ".py",
   "mimetype": "text/x-python",
   "name": "python",
   "nbconvert_exporter": "python",
   "pygments_lexer": "ipython3",
   "version": "3.12.2"
  }
 },
 "nbformat": 4,
 "nbformat_minor": 2
}
